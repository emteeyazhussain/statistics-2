{
 "cells": [
  {
   "cell_type": "markdown",
   "id": "fdbfaae7-d0d2-4c34-9b56-fe99bb0e587b",
   "metadata": {},
   "source": [
    "Q1.\n",
    "The three measures of central tendency are:\n",
    "\n",
    "Mean: The mean is the arithmetic average of a set of numbers. It is calculated by adding up all the numbers in the set and dividing the sum by the total number of numbers.\n",
    "\n",
    "Median: The median is the middle value in a set of numbers when the numbers are arranged in order. If there is an even number of values, the median is the average of the two middle values.\n",
    "\n",
    "Mode: The mode is the value that appears most frequently in a set of numbers. If there are multiple values that occur with the same highest frequency, the set is considered to have multiple modes."
   ]
  },
  {
   "cell_type": "markdown",
   "id": "6feff685-e8d5-4221-b352-92c72d0d123b",
   "metadata": {},
   "source": [
    "Q2.The mean, median, and mode are different measures of central tendency used to describe the typical value or typical position of a dataset.\n",
    "\n",
    "The mean is the sum of all values in the dataset divided by the total number of values. It is affected by extreme values or outliers, which can significantly alter the value of the mean. The mean is used when the distribution of the data is approximately symmetric or normal.\n",
    "\n",
    "The median is the middle value in a dataset when the data is arranged in order. It is not affected by extreme values and is the best measure of central tendency when the data is skewed or contains outliers. The median is commonly used in income or salary data where a few high or low values may disproportionately influence the mean.\n",
    "\n",
    "The mode is the value that appears most frequently in a dataset. It is often used in categorical data, where the data consists of non-numerical values like colors, brands, or types of vehicles. In such cases, the mean and median may not be meaningful, so the mode is used instead."
   ]
  },
  {
   "cell_type": "code",
   "execution_count": null,
   "id": "a6418934-10cb-4482-aff2-aa36e3a54afa",
   "metadata": {},
   "outputs": [],
   "source": [
    "# Q3."
   ]
  },
  {
   "cell_type": "code",
   "execution_count": 39,
   "id": "859596d6-dfcb-453e-916f-6de33e9e4159",
   "metadata": {},
   "outputs": [],
   "source": [
    "import numpy as np \n",
    "from scipy import stats\n",
    "data =  np.array([178,177,176,177,178.2,178,175,179,180,175,178.9,176.2,177,172.5,178,176.5])"
   ]
  },
  {
   "cell_type": "code",
   "execution_count": 40,
   "id": "f247d30c-fea5-416a-bd32-e00c583ef20e",
   "metadata": {},
   "outputs": [
    {
     "data": {
      "text/plain": [
       "177.01875"
      ]
     },
     "execution_count": 40,
     "metadata": {},
     "output_type": "execute_result"
    }
   ],
   "source": [
    "# find the mean \n",
    "np.mean(data)\n"
   ]
  },
  {
   "cell_type": "code",
   "execution_count": 41,
   "id": "0b58dca8-8086-4f7e-895c-ff3798b05da9",
   "metadata": {},
   "outputs": [
    {
     "data": {
      "text/plain": [
       "177.0"
      ]
     },
     "execution_count": 41,
     "metadata": {},
     "output_type": "execute_result"
    }
   ],
   "source": [
    "#find the median\n",
    "np.median(data)"
   ]
  },
  {
   "cell_type": "code",
   "execution_count": 42,
   "id": "55499977-5231-4aa7-9c0c-47b02fdef6c9",
   "metadata": {},
   "outputs": [
    {
     "name": "stderr",
     "output_type": "stream",
     "text": [
      "/tmp/ipykernel_210/508020538.py:1: FutureWarning: Unlike other reduction functions (e.g. `skew`, `kurtosis`), the default behavior of `mode` typically preserves the axis it acts along. In SciPy 1.11.0, this behavior will change: the default value of `keepdims` will become False, the `axis` over which the statistic is taken will be eliminated, and the value None will no longer be accepted. Set `keepdims` to True or False to avoid this warning.\n",
      "  stats.mode(data)\n"
     ]
    },
    {
     "data": {
      "text/plain": [
       "ModeResult(mode=array([177.]), count=array([3]))"
      ]
     },
     "execution_count": 42,
     "metadata": {},
     "output_type": "execute_result"
    }
   ],
   "source": [
    "stats.mode(data)\n"
   ]
  },
  {
   "cell_type": "code",
   "execution_count": 45,
   "id": "74922ec4-42fd-4a7f-be45-666513025341",
   "metadata": {},
   "outputs": [
    {
     "data": {
      "text/plain": [
       "1.7885814036548633"
      ]
     },
     "execution_count": 45,
     "metadata": {},
     "output_type": "execute_result"
    }
   ],
   "source": [
    "# Q4.\n",
    "std_d= [178,177,176,177,178.2,178,175,179,180,175,178.9,176.2,177,172.5,178,176.5]\n",
    "np.std(std_d)"
   ]
  },
  {
   "cell_type": "markdown",
   "id": "be7b3da8-54e9-46f1-b348-cc9b5f1d7725",
   "metadata": {},
   "source": [
    "Q5.\n",
    "Measures of dispersion are used to describe the spread or variability of a dataset. Here are some ways that the measures of dispersion such as range, variance, and standard deviation can be used to describe the spread of a dataset:\n",
    "\n",
    "Range: The range is the difference between the highest and lowest values in a dataset. It provides a quick and simple measure of the spread of a dataset. For example, if we have a dataset of test scores from 0 to 100, the range would be 100 - 0 = 100, indicating a wide range of scores.\n",
    "\n",
    "Variance: The variance is a measure of how spread out the data is from the mean. It is calculated by finding the average of the squared differences from the mean. A high variance indicates that the data is spread out over a wide range of values, while a low variance indicates that the data is clustered around the mean. For example, if we have a dataset of test scores with a mean of 75 and a variance of 100, this indicates that the scores are widely spread out from the mean.\n",
    "\n",
    "Standard Deviation: The standard deviation is a measure of the spread of the data from the mean, similar to the variance. However, the standard deviation is expressed in the same units as the data, which makes it more interpretable. A high standard deviation indicates that the data is spread out over a wide range of values, while a low standard deviation indicates that the data is clustered around the mean. For example, if we have a dataset of test scores with a mean of 75 and a standard deviation of 10, this indicates that the scores are fairly close to the mean."
   ]
  },
  {
   "cell_type": "markdown",
   "id": "7f66fbe5-a131-4c10-8e44-8e94bb101572",
   "metadata": {},
   "source": [
    "#Q6.A Venn diagram is a graphical representation of sets or groups using circles or other closed shapes. The diagram shows the relationships among the sets, including their intersections and differences.\n",
    "\n",
    "In a Venn diagram, each set is represented by a circle or closed shape, and the circles are overlapped to show how the sets intersect. The size of the circle may be proportional to the number of elements or members in the set. The area outside the circles represents elements or members that are not in any of the sets.\n",
    "\n",
    "Venn diagrams are commonly used in mathematics, logic, statistics, and other fields to illustrate relationships among sets or groups. They are useful for visualizing data, comparing groups, and identifying commonalities and differences among data sets. They are also used in problem-solving and decision-making processes.\n"
   ]
  },
  {
   "cell_type": "code",
   "execution_count": null,
   "id": "8cba8561-d85c-48fa-8cf2-387df9b26255",
   "metadata": {},
   "outputs": [],
   "source": []
  },
  {
   "cell_type": "markdown",
   "id": "c5bbc383-474a-427f-ad60-11162dc6cd39",
   "metadata": {},
   "source": [
    "#Q7.(i) A ⋂ B is the intersection of sets A and B, which means finding the elements that are common to both sets. In this case, the common element between A and B is only 2. So A ⋂ B = {2,6}.\n",
    "\n",
    "(ii) A ⋃ B is the union of sets A and B, which means finding all the unique elements in both sets, without repetition. So A ⋃ B = {0, 2, 3, 4, 5, 6, 7, 8, 10}."
   ]
  },
  {
   "cell_type": "markdown",
   "id": "3f6702fb-3068-4379-a0b9-28d75ae4d0fc",
   "metadata": {},
   "source": [
    "#8.\n",
    "In statistics, skewness is a measure of the asymmetry of a probability distribution. It measures the degree to which a distribution deviates from symmetry around its mean.\n",
    "\n",
    "If a distribution is symmetric, it has zero skewness. If the distribution is skewed to the right, it has positive skewness, and if it is skewed to the left, it has negative skewness.\n",
    "\n",
    "Skewness is important in data analysis because it can affect the interpretation of summary statistics such as the mean and standard deviation. If a dataset is skewed, the mean may be biased and may not be a representative measure of central tendency. In this case, the median may be a better measure of central tendency. Similarly, the standard deviation may not be a good measure of dispersion in a skewed dataset, and other measures such as the interquartile range may be more appropriate.\n",
    "\n",
    "Skewness can be calculated using various statistical methods, such as the Pearson's skewness coefficient, the Bowley's skewness coefficient, or the sample skewness coefficient. Visual inspection of histograms or box plots can also provide an indication of the skewness of a dataset."
   ]
  },
  {
   "cell_type": "markdown",
   "id": "2919cd92-d255-425d-b4e8-a7dd84929b6c",
   "metadata": {},
   "source": [
    "#Q9.Skewness refers to the degree of asymmetry in a distribution. In a right-skewed distribution, the tail of the distribution is longer on the right side, which means that there are some larger values on the right side of the distribution that pull the mean towards them. This causes the mean to be greater than the median, which is the value that separates the lower 50% of the data from the upper 50%. The median is less affected by extreme values than the mean, which is why it is a better measure of central tendency in skewed distributions."
   ]
  },
  {
   "cell_type": "markdown",
   "id": "f1b3e558-c5b4-4b63-b919-2d7ae13f4129",
   "metadata": {},
   "source": [
    "#10.\n",
    "Covariance and correlation are two measures of the relationship between two variables.\n",
    "\n",
    "Covariance is a measure of the direction and strength of the linear relationship between two variables. It measures how much two variables change together. A positive covariance indicates that the two variables tend to move in the same direction, while a negative covariance indicates that they tend to move in opposite directions. However, the magnitude of covariance cannot be used to compare the strength of the relationship between different pairs of variables because it depends on the units of measurement of the variables.\n",
    "\n",
    "Correlation, on the other hand, is a standardized measure of the linear relationship between two variables. It ranges from -1 to 1, where a correlation of +1 indicates a perfect positive linear relationship, a correlation of -1 indicates a perfect negative linear relationship, and a correlation of 0 indicates no linear relationship. Correlation is unitless, which means that it can be used to compare the strength of the relationship between different pairs of variables.\n",
    "\n",
    "In statistical analysis, covariance and correlation are used to determine whether two variables are related and to what extent. They are commonly used in data analysis, machine learning, and other fields to identify patterns and relationships in data.\n",
    "\n",
    "Covariance and correlation can help in:\n",
    "\n",
    "Identifying the strength of the relationship between two variables.\n",
    "Determining the direction of the relationship between two variables.\n",
    "Identifying whether there is a positive or negative relationship between two variables.\n",
    "Measuring the extent to which changes in one variable are associated with changes in the other variable.\n",
    "\n",
    "\n",
    "Example:\n",
    "Suppose we have a dataset of housing prices in a city, where each data point includes the size of the house (in square feet) and its sale price (in dollars). We want to determine the strength of the relationship between these two variables.\n",
    "\n",
    "We can calculate the covariance between the size of the house and its sale price using the following formula:\n",
    "\n",
    "cov(X,Y) = (Σ(Xi - X̄)(Yi - Ȳ)) / (n - 1)\n",
    "\n",
    "where X and Y are the variables (size of the house and sale price), X̄ and Ȳ are the means of X and Y, and n is the number of data points.\n",
    "\n",
    "If the resulting covariance is positive, it means that larger houses tend to have higher sale prices, and if it is negative, it means that smaller houses tend to have higher sale prices. However, since the magnitude of covariance depends on the units of measurement, we cannot use it to compare the strength of the relationship between different pairs of variables.\n",
    "\n",
    "To compare the strength of the relationship between the size of the house and its sale price with other pairs of variables, we can calculate the correlation coefficient using the following formula:\n",
    "\n",
    "r = cov(X,Y) / (σX σY)\n",
    "\n",
    "where r is the correlation coefficient, cov(X,Y) is the covariance between X and Y, σX is the standard deviation of X, and σY is the standard deviation of Y.\n",
    "\n",
    "If the resulting correlation coefficient is close to +1, it means that there is a strong positive linear relationship between the size of the house and its sale price, and if it is close to -1, it means that there is a strong negative linear relationship. A correlation coefficient of 0 indicates no linear relationship.\n",
    "\n",
    "We can use this information to build a machine learning model that predicts the sale price of a house based on its size. For example, we can use linear regression to fit a line to the data points and use this line to make predictions for new houses. By using the correlation coefficient to select the size of the house as the predictor variable, we can ensure that our model is based on a strong relationship between the predictor and response variables."
   ]
  },
  {
   "cell_type": "markdown",
   "id": "5f74d57f-390f-4c4f-a593-3a53342c6d39",
   "metadata": {},
   "source": [
    "#11.\n",
    "The formula for calculating the sample mean is:\n",
    "\n",
    "x̄ = Σxi / n\n",
    "\n",
    "where x̄ is the sample mean, Σxi is the sum of all the data points, and n is the number of data points in the sample.\n",
    "\n",
    "Here's an example calculation of the sample mean for a dataset:\n",
    "\n",
    "Suppose we have the following dataset:\n",
    "\n",
    "3, 5, 7, 9, 11\n",
    "\n",
    "To calculate the sample mean, we first find the sum of all the data points:\n",
    "\n",
    "Σxi = 3 + 5 + 7 + 9 + 11 = 35\n",
    "\n",
    "Next, we divide the sum by the number of data points:\n",
    "\n",
    "x̄ = Σxi / n = 35 / 5 = 7\n",
    "\n",
    "Therefore, the sample mean for this dataset is 7."
   ]
  },
  {
   "cell_type": "markdown",
   "id": "5f2031dc-f20b-4311-8451-9c9a7ff22965",
   "metadata": {},
   "source": [
    "\n",
    "\n",
    "#12.\n",
    "For a normal distribution, the mean, median, and mode are all equal and located at the center of the distribution. This is because a normal distribution is symmetric around its mean, so the median and mode will also be located at the same point as the mean.\n",
    "\n",
    "The mean is often used as the primary measure of central tendency for normal distributions because it provides the most precise estimate of the center of the data. However, the median and mode can also be used as measures of central tendency in certain cases, such as when there are outliers or the distribution is skewed.\n"
   ]
  },
  {
   "cell_type": "markdown",
   "id": "80866bed-20c2-4a2e-aee0-e91cabac4f2d",
   "metadata": {},
   "source": [
    "#13.\n",
    "Covariance and correlation are both measures of the relationship between two variables, but they differ in several ways:\n",
    "\n",
    "Interpretation: Covariance is not standardized, which means that its value is dependent on the units of measurement of the variables being compared. This makes it difficult to compare covariances across different data sets. Correlation, on the other hand, is standardized, which allows for easier comparison across data sets, and its values range from -1 to +1, with -1 indicating a perfect negative relationship, 0 indicating no relationship, and +1 indicating a perfect positive relationship.\n",
    "\n",
    "Magnitude: Covariance measures the magnitude of the relationship between two variables, but it does not provide any information on the strength of the relationship. Correlation, on the other hand, measures the strength of the relationship, in addition to the direction.\n",
    "\n",
    "Units of measurement: Covariance is affected by the units of measurement of the variables being compared, whereas correlation is not. This means that the covariance between two variables can be affected by changes in the units of measurement, even if the underlying relationship between the variables remains the same.\n",
    "\n",
    "Range: The range of possible values for covariance is infinite, while the range of possible values for correlation is limited to -1 to +1."
   ]
  },
  {
   "cell_type": "markdown",
   "id": "7d5c2118-0c61-43e7-917a-ce226f7ab747",
   "metadata": {},
   "source": [
    "#14.Outliers can have a significant impact on measures of central tendency and dispersion.\n",
    "\n",
    "Measures of central tendency such as the mean and mode are affected by outliers because they pull the value of the measure towards the outlier. For example, consider a dataset of exam scores: 60, 70, 75, 80, and 95. The mean score is (60+70+75+80+95)/5 = 76. However, if an outlier of 100 is added to the dataset, the mean becomes (60+70+75+80+95+100)/6 = 80.8. The outlier has significantly increased the mean score.\n",
    "\n",
    "Similarly, measures of dispersion such as the range, variance, and standard deviation are also affected by outliers. Outliers can increase the range of the dataset and increase the variance and standard deviation as well. For example, consider the same exam scores dataset: 60, 70, 75, 80, and 95. The range of the dataset is 35 (95-60), the variance is 182.5, and the standard deviation is 13.5. If the outlier of 100 is added, the range becomes 40 (100-60), the variance becomes 558.3, and the standard deviation becomes 23.6. The outlier has increased the range, variance, and standard deviation of the dataset.\n",
    "\n",
    "Last per not least eoutliers can significantly affect measures of central tendency and dispersion, pulling the values towards the outlier and increasing the variability of the dataset. It is important to identify and handle outliers appropriately to avoid biased or inaccurate analysis."
   ]
  },
  {
   "cell_type": "code",
   "execution_count": null,
   "id": "4ac23546-5746-45d3-866d-ca578e0e6038",
   "metadata": {},
   "outputs": [],
   "source": []
  }
 ],
 "metadata": {
  "kernelspec": {
   "display_name": "Python 3 (ipykernel)",
   "language": "python",
   "name": "python3"
  },
  "language_info": {
   "codemirror_mode": {
    "name": "ipython",
    "version": 3
   },
   "file_extension": ".py",
   "mimetype": "text/x-python",
   "name": "python",
   "nbconvert_exporter": "python",
   "pygments_lexer": "ipython3",
   "version": "3.10.8"
  }
 },
 "nbformat": 4,
 "nbformat_minor": 5
}
